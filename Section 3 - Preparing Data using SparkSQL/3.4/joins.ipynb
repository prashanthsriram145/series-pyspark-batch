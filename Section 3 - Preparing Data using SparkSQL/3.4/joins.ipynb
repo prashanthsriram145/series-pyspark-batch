{
 "cells": [
  {
   "cell_type": "code",
   "execution_count": 24,
   "metadata": {},
   "outputs": [
    {
     "name": "stdout",
     "output_type": "stream",
     "text": [
      "+-------+--------------------+--------------------+\n",
      "|movieId|               title|              genres|\n",
      "+-------+--------------------+--------------------+\n",
      "|      1|    Toy Story (1995)|Adventure|Animati...|\n",
      "|      2|      Jumanji (1995)|Adventure|Childre...|\n",
      "|      3|Grumpier Old Men ...|      Comedy|Romance|\n",
      "|      4|Waiting to Exhale...|Comedy|Drama|Romance|\n",
      "|      5|Father of the Bri...|              Comedy|\n",
      "|      6|         Heat (1995)|Action|Crime|Thri...|\n",
      "|      7|      Sabrina (1995)|      Comedy|Romance|\n",
      "|      8| Tom and Huck (1995)|  Adventure|Children|\n",
      "|      9| Sudden Death (1995)|              Action|\n",
      "|     10|    GoldenEye (1995)|Action|Adventure|...|\n",
      "|     11|American Presiden...|Comedy|Drama|Romance|\n",
      "|     12|Dracula: Dead and...|       Comedy|Horror|\n",
      "|     13|        Balto (1995)|Adventure|Animati...|\n",
      "|     14|        Nixon (1995)|               Drama|\n",
      "|     15|Cutthroat Island ...|Action|Adventure|...|\n",
      "|     16|       Casino (1995)|         Crime|Drama|\n",
      "|     17|Sense and Sensibi...|       Drama|Romance|\n",
      "|     18|   Four Rooms (1995)|              Comedy|\n",
      "|     19|Ace Ventura: When...|              Comedy|\n",
      "|     20|  Money Train (1995)|Action|Comedy|Cri...|\n",
      "+-------+--------------------+--------------------+\n",
      "only showing top 20 rows\n",
      "\n",
      "root\n",
      " |-- movieId: string (nullable = true)\n",
      " |-- title: string (nullable = true)\n",
      " |-- genres: string (nullable = true)\n",
      "\n"
     ]
    }
   ],
   "source": [
    "from pyspark.sql import SparkSession\n",
    "from pyspark.sql import functions as f\n",
    "\n",
    "spark = SparkSession.builder.appName(\"joins\").getOrCreate()\n",
    "\n",
    "movies = spark.read.csv(\n",
    "path=\"../../../data-sets/ml-latest-small/movies.csv\",\n",
    "    header=True\n",
    ")\n",
    "\n",
    "movies.show()\n",
    "movies.printSchema()"
   ]
  },
  {
   "cell_type": "code",
   "execution_count": 10,
   "metadata": {},
   "outputs": [
    {
     "name": "stdout",
     "output_type": "stream",
     "text": [
      "+------+-------+-----------------+----------+\n",
      "|userId|movieId|              tag| timestamp|\n",
      "+------+-------+-----------------+----------+\n",
      "|     2|  60756|            funny|1445714994|\n",
      "|     2|  60756|  Highly quotable|1445714996|\n",
      "|     2|  60756|     will ferrell|1445714992|\n",
      "|     2|  89774|     Boxing story|1445715207|\n",
      "|     2|  89774|              MMA|1445715200|\n",
      "|     2|  89774|        Tom Hardy|1445715205|\n",
      "|     2| 106782|            drugs|1445715054|\n",
      "|     2| 106782|Leonardo DiCaprio|1445715051|\n",
      "|     2| 106782|  Martin Scorsese|1445715056|\n",
      "|     7|  48516|     way too long|1169687325|\n",
      "|    18|    431|        Al Pacino|1462138765|\n",
      "|    18|    431|         gangster|1462138749|\n",
      "|    18|    431|            mafia|1462138755|\n",
      "|    18|   1221|        Al Pacino|1461699306|\n",
      "|    18|   1221|            Mafia|1461699303|\n",
      "|    18|   5995|        holocaust|1455735472|\n",
      "|    18|   5995|       true story|1455735479|\n",
      "|    18|  44665|     twist ending|1456948283|\n",
      "|    18|  52604|  Anthony Hopkins|1457650696|\n",
      "|    18|  52604|  courtroom drama|1457650711|\n",
      "+------+-------+-----------------+----------+\n",
      "only showing top 20 rows\n",
      "\n",
      "+------+-------+------+---------+\n",
      "|userId|movieId|rating|timestamp|\n",
      "+------+-------+------+---------+\n",
      "|     1|      1|   4.0|964982703|\n",
      "|     1|      3|   4.0|964981247|\n",
      "|     1|      6|   4.0|964982224|\n",
      "|     1|     47|   5.0|964983815|\n",
      "|     1|     50|   5.0|964982931|\n",
      "|     1|     70|   3.0|964982400|\n",
      "|     1|    101|   5.0|964980868|\n",
      "|     1|    110|   4.0|964982176|\n",
      "|     1|    151|   5.0|964984041|\n",
      "|     1|    157|   5.0|964984100|\n",
      "|     1|    163|   5.0|964983650|\n",
      "|     1|    216|   5.0|964981208|\n",
      "|     1|    223|   3.0|964980985|\n",
      "|     1|    231|   5.0|964981179|\n",
      "|     1|    235|   4.0|964980908|\n",
      "|     1|    260|   5.0|964981680|\n",
      "|     1|    296|   3.0|964982967|\n",
      "|     1|    316|   3.0|964982310|\n",
      "|     1|    333|   5.0|964981179|\n",
      "|     1|    349|   4.0|964982563|\n",
      "+------+-------+------+---------+\n",
      "only showing top 20 rows\n",
      "\n"
     ]
    }
   ],
   "source": [
    "tags = spark.read.csv(\n",
    "path=\"../../../data-sets/ml-latest-small/tags.csv\",\n",
    "    header=True\n",
    ")\n",
    "\n",
    "tags.show()\n",
    "\n",
    "ratings = spark.read.csv(\n",
    "path=\"../../../data-sets/ml-latest-small/ratings.csv\",\n",
    "    header=True\n",
    ")\n",
    "\n",
    "ratings.show()"
   ]
  },
  {
   "cell_type": "code",
   "execution_count": 13,
   "metadata": {},
   "outputs": [
    {
     "name": "stdout",
     "output_type": "stream",
     "text": [
      "+-------+--------------------+--------------------+------+----------------+----------+\n",
      "|movieId|               title|              genres|userId|             tag| timestamp|\n",
      "+-------+--------------------+--------------------+------+----------------+----------+\n",
      "|      1|    Toy Story (1995)|Adventure|Animati...|   567|             fun|1525286013|\n",
      "|      1|    Toy Story (1995)|Adventure|Animati...|   474|           pixar|1137206825|\n",
      "|      1|    Toy Story (1995)|Adventure|Animati...|   336|           pixar|1139045764|\n",
      "|      2|      Jumanji (1995)|Adventure|Childre...|   474|            game|1137375552|\n",
      "|      2|      Jumanji (1995)|Adventure|Childre...|    62|  Robin Williams|1528843907|\n",
      "|      2|      Jumanji (1995)|Adventure|Childre...|    62|magic board game|1528843932|\n",
      "|      2|      Jumanji (1995)|Adventure|Childre...|    62|         fantasy|1528843929|\n",
      "|      3|Grumpier Old Men ...|      Comedy|Romance|   289|             old|1143424860|\n",
      "|      3|Grumpier Old Men ...|      Comedy|Romance|   289|           moldy|1143424860|\n",
      "|      5|Father of the Bri...|              Comedy|   474|          remake|1137373903|\n",
      "|      5|Father of the Bri...|              Comedy|   474|       pregnancy|1137373903|\n",
      "|      7|      Sabrina (1995)|      Comedy|Romance|   474|          remake|1137375642|\n",
      "|     11|American Presiden...|Comedy|Drama|Romance|   474|       president|1137374904|\n",
      "|     11|American Presiden...|Comedy|Drama|Romance|   474|        politics|1137374904|\n",
      "|     14|        Nixon (1995)|               Drama|   474|       president|1137375623|\n",
      "|     14|        Nixon (1995)|               Drama|   474|        politics|1137375623|\n",
      "|     16|       Casino (1995)|         Crime|Drama|   474|           Mafia|1137181640|\n",
      "|     17|Sense and Sensibi...|       Drama|Romance|   474|     Jane Austen|1137181153|\n",
      "|     21|   Get Shorty (1995)|Comedy|Crime|Thri...|   474|       Hollywood|1137206178|\n",
      "|     22|      Copycat (1995)|Crime|Drama|Horro...|   474|   serial killer|1137375496|\n",
      "+-------+--------------------+--------------------+------+----------------+----------+\n",
      "only showing top 20 rows\n",
      "\n"
     ]
    }
   ],
   "source": [
    "opinions = movies.join(tags, [\"movieId\"], \"inner\").show()"
   ]
  },
  {
   "cell_type": "code",
   "execution_count": 14,
   "metadata": {},
   "outputs": [
    {
     "name": "stdout",
     "output_type": "stream",
     "text": [
      "+-------+--------------------+--------------------+------+----------------+----------+\n",
      "|movieId|               title|              genres|userId|             tag| timestamp|\n",
      "+-------+--------------------+--------------------+------+----------------+----------+\n",
      "|      1|    Toy Story (1995)|Adventure|Animati...|   567|             fun|1525286013|\n",
      "|      1|    Toy Story (1995)|Adventure|Animati...|   474|           pixar|1137206825|\n",
      "|      1|    Toy Story (1995)|Adventure|Animati...|   336|           pixar|1139045764|\n",
      "|      2|      Jumanji (1995)|Adventure|Childre...|   474|            game|1137375552|\n",
      "|      2|      Jumanji (1995)|Adventure|Childre...|    62|  Robin Williams|1528843907|\n",
      "|      2|      Jumanji (1995)|Adventure|Childre...|    62|magic board game|1528843932|\n",
      "|      2|      Jumanji (1995)|Adventure|Childre...|    62|         fantasy|1528843929|\n",
      "|      3|Grumpier Old Men ...|      Comedy|Romance|   289|             old|1143424860|\n",
      "|      3|Grumpier Old Men ...|      Comedy|Romance|   289|           moldy|1143424860|\n",
      "|      4|Waiting to Exhale...|Comedy|Drama|Romance|  null|            null|      null|\n",
      "|      5|Father of the Bri...|              Comedy|   474|          remake|1137373903|\n",
      "|      5|Father of the Bri...|              Comedy|   474|       pregnancy|1137373903|\n",
      "|      6|         Heat (1995)|Action|Crime|Thri...|  null|            null|      null|\n",
      "|      7|      Sabrina (1995)|      Comedy|Romance|   474|          remake|1137375642|\n",
      "|      8| Tom and Huck (1995)|  Adventure|Children|  null|            null|      null|\n",
      "|      9| Sudden Death (1995)|              Action|  null|            null|      null|\n",
      "|     10|    GoldenEye (1995)|Action|Adventure|...|  null|            null|      null|\n",
      "|     11|American Presiden...|Comedy|Drama|Romance|   474|       president|1137374904|\n",
      "|     11|American Presiden...|Comedy|Drama|Romance|   474|        politics|1137374904|\n",
      "|     12|Dracula: Dead and...|       Comedy|Horror|  null|            null|      null|\n",
      "+-------+--------------------+--------------------+------+----------------+----------+\n",
      "only showing top 20 rows\n",
      "\n"
     ]
    }
   ],
   "source": [
    "opinions = movies.join(tags, [\"movieId\"], \"left\").show()"
   ]
  },
  {
   "cell_type": "code",
   "execution_count": 22,
   "metadata": {},
   "outputs": [
    {
     "name": "stdout",
     "output_type": "stream",
     "text": [
      "+-------+------+--------------------+----------------+----------+\n",
      "|movieId|userId|               title|             tag| timestamp|\n",
      "+-------+------+--------------------+----------------+----------+\n",
      "|      1|   567|    Toy Story (1995)|             fun|1525286013|\n",
      "|      1|   474|    Toy Story (1995)|           pixar|1137206825|\n",
      "|      1|   336|    Toy Story (1995)|           pixar|1139045764|\n",
      "|      2|   474|      Jumanji (1995)|            game|1137375552|\n",
      "|      2|    62|      Jumanji (1995)|  Robin Williams|1528843907|\n",
      "|      2|    62|      Jumanji (1995)|magic board game|1528843932|\n",
      "|      2|    62|      Jumanji (1995)|         fantasy|1528843929|\n",
      "|      3|   289|Grumpier Old Men ...|             old|1143424860|\n",
      "|      3|   289|Grumpier Old Men ...|           moldy|1143424860|\n",
      "|      4|  null|Waiting to Exhale...|            null|      null|\n",
      "|      5|   474|Father of the Bri...|          remake|1137373903|\n",
      "|      5|   474|Father of the Bri...|       pregnancy|1137373903|\n",
      "|      6|  null|         Heat (1995)|            null|      null|\n",
      "|      7|   474|      Sabrina (1995)|          remake|1137375642|\n",
      "|      8|  null| Tom and Huck (1995)|            null|      null|\n",
      "|      9|  null| Sudden Death (1995)|            null|      null|\n",
      "|     10|  null|    GoldenEye (1995)|            null|      null|\n",
      "|     11|   474|American Presiden...|       president|1137374904|\n",
      "|     11|   474|American Presiden...|        politics|1137374904|\n",
      "|     12|  null|Dracula: Dead and...|            null|      null|\n",
      "+-------+------+--------------------+----------------+----------+\n",
      "only showing top 20 rows\n",
      "\n"
     ]
    }
   ],
   "source": [
    "opinions = (movies.join(tags, [\"movieId\"], \"left\")\n",
    ".select(\"movieId\", \"userId\", \"title\", \"tag\", \"timestamp\"))\n",
    "\n",
    "opinions.show()"
   ]
  },
  {
   "cell_type": "code",
   "execution_count": 23,
   "metadata": {},
   "outputs": [
    {
     "name": "stdout",
     "output_type": "stream",
     "text": [
      "+-------+------+--------------------+----------------+----------+------+----------+\n",
      "|movieId|userId|               title|             tag|  tag_time|rating| timestamp|\n",
      "+-------+------+--------------------+----------------+----------+------+----------+\n",
      "|      1|   567|    Toy Story (1995)|             fun|1525286013|   3.5|1525286001|\n",
      "|      1|   474|    Toy Story (1995)|           pixar|1137206825|   4.0| 978575760|\n",
      "|      1|   336|    Toy Story (1995)|           pixar|1139045764|   4.0|1122227329|\n",
      "|      2|   474|      Jumanji (1995)|            game|1137375552|   3.0|1046886814|\n",
      "|      2|    62|      Jumanji (1995)|  Robin Williams|1528843907|   4.0|1528843890|\n",
      "|      2|    62|      Jumanji (1995)|magic board game|1528843932|   4.0|1528843890|\n",
      "|      2|    62|      Jumanji (1995)|         fantasy|1528843929|   4.0|1528843890|\n",
      "|      3|   289|Grumpier Old Men ...|             old|1143424860|   2.5|1143424657|\n",
      "|      3|   289|Grumpier Old Men ...|           moldy|1143424860|   2.5|1143424657|\n",
      "|      5|   474|Father of the Bri...|          remake|1137373903|   1.5|1053021982|\n",
      "|      5|   474|Father of the Bri...|       pregnancy|1137373903|   1.5|1053021982|\n",
      "|      7|   474|      Sabrina (1995)|          remake|1137375642|   3.0| 978576381|\n",
      "|     11|   474|American Presiden...|       president|1137374904|   2.5|1053021437|\n",
      "|     11|   474|American Presiden...|        politics|1137374904|   2.5|1053021437|\n",
      "|     14|   474|        Nixon (1995)|       president|1137375623|   3.0|1120827247|\n",
      "|     14|   474|        Nixon (1995)|        politics|1137375623|   3.0|1120827247|\n",
      "|     16|   474|       Casino (1995)|           Mafia|1137181640|   4.0|1088426731|\n",
      "|     17|   474|Sense and Sensibi...|     Jane Austen|1137181153|   5.0| 974668666|\n",
      "|     21|   474|   Get Shorty (1995)|       Hollywood|1137206178|   4.0|1119232784|\n",
      "|     22|   474|      Copycat (1995)|   serial killer|1137375496|   3.0|1046896006|\n",
      "+-------+------+--------------------+----------------+----------+------+----------+\n",
      "only showing top 20 rows\n",
      "\n"
     ]
    }
   ],
   "source": [
    "opinions_time = opinions.withColumnRenamed(\"timestamp\", \"tag_time\")\n",
    "opinions_time.join(ratings, [\"movieId\", \"userId\"], \"inner\").show()"
   ]
  }
 ],
 "metadata": {
  "kernelspec": {
   "display_name": "Python 3",
   "language": "python",
   "name": "python3"
  },
  "language_info": {
   "codemirror_mode": {
    "name": "ipython",
    "version": 3
   },
   "file_extension": ".py",
   "mimetype": "text/x-python",
   "name": "python",
   "nbconvert_exporter": "python",
   "pygments_lexer": "ipython3",
   "version": "3.7.3"
  }
 },
 "nbformat": 4,
 "nbformat_minor": 2
}

{
 "cells": [
  {
   "cell_type": "code",
   "execution_count": 2,
   "metadata": {},
   "outputs": [
    {
     "name": "stdout",
     "output_type": "stream",
     "text": [
      "+-------+-----------+-----------+------------------+--------------+--------------+\n",
      "|movieId|min(rating)|max(rating)|       avg(rating)|min(timestamp)|max(timestamp)|\n",
      "+-------+-----------+-----------+------------------+--------------+--------------+\n",
      "| 100553|        4.5|        4.5|               4.5|    1426353247|    1446572398|\n",
      "| 102684|        3.5|        4.0|              3.75|    1376654552|    1494709199|\n",
      "|   1090|        1.0|        5.0| 3.984126984126984|    1019137594|     996212773|\n",
      "| 112911|        0.5|        4.0|               2.0|    1450441583|    1525288949|\n",
      "| 115713|        0.5|        5.0|3.9107142857142856|    1432300710|    1537158030|\n",
      "| 117630|        1.0|        1.0|               1.0|    1519373031|    1519373031|\n",
      "| 119655|        1.0|        3.5|              2.25|    1459186712|    1459793444|\n",
      "| 120478|        3.5|        5.0| 4.333333333333333|    1470702691|    1535037621|\n",
      "| 121007|        4.0|        4.0|               4.0|    1520408968|    1520408968|\n",
      "|   1572|        2.5|        3.5|               3.0|    1125857345|    1185777484|\n",
      "| 158813|        1.0|        3.0|               2.0|    1464282672|    1518380883|\n",
      "| 173535|        4.5|        4.5|               4.5|    1526206993|    1526206993|\n",
      "|   2069|        3.5|        5.0|              4.25|    1049076150|    1134942549|\n",
      "|   2088|        1.0|        4.0|               2.5|    1004409190|     978823569|\n",
      "|   2136|        0.5|        5.0|2.4642857142857144|    1063285523|     976120723|\n",
      "|   2162|        1.0|        3.5|               2.5|    1004409216|     971619754|\n",
      "|   2294|        1.5|        5.0|3.2444444444444445|    1004409410|     996218757|\n",
      "|  26082|        4.0|        5.0|               4.5|    1161849384|    1446573129|\n",
      "|  27317|        3.0|        4.5|              3.75|    1112713059|    1498800198|\n",
      "|    296|        0.5|        5.0| 4.197068403908795|    1007483989|     996441209|\n",
      "+-------+-----------+-----------+------------------+--------------+--------------+\n",
      "only showing top 20 rows\n",
      "\n"
     ]
    }
   ],
   "source": [
    "from pyspark.sql import SparkSession\n",
    "from pyspark.sql import functions as f\n",
    "\n",
    "spark = SparkSession.builder.appName(\"aggregates\").getOrCreate()\n",
    "\n",
    "movies = spark.read.csv(\n",
    "path=\"../../../data-sets/ml-latest-small/movies.csv\",\n",
    "    header=True\n",
    ")\n",
    "\n",
    "ratings = spark.read.csv(\n",
    "path=\"../../../data-sets/ml-latest-small/ratings.csv\",\n",
    "    header=True\n",
    ")\n",
    "\n",
    "tags = spark.read.csv(\n",
    "path=\"../../../data-sets/ml-latest-small/tags.csv\",\n",
    "    header=True\n",
    ")\n",
    "\n",
    "ratings.groupBy(\"movieId\").agg(\n",
    "    f.min(\"rating\"),\n",
    "    f.max(\"rating\"),\n",
    "    f.avg(\"rating\"),\n",
    "    f.min(\"timestamp\"),\n",
    "    f.max(\"timestamp\")\n",
    ").show()"
   ]
  },
  {
   "cell_type": "code",
   "execution_count": 9,
   "metadata": {},
   "outputs": [
    {
     "name": "stdout",
     "output_type": "stream",
     "text": [
      "+-------+--------------------+-----+\n",
      "|movieId|    collect_set(tag)|count|\n",
      "+-------+--------------------+-----+\n",
      "|    296|[foul language, r...|  181|\n",
      "|   2959|[powerful ending,...|   54|\n",
      "|    924|[music, atmospher...|   41|\n",
      "|    293|[friendship, orga...|   35|\n",
      "|   7361|[arthouse, atmosp...|   34|\n",
      "|   1732|[Philip Seymour H...|   32|\n",
      "|   4878|[surreal, atmosph...|   29|\n",
      "|  79132|[complicated, sur...|   26|\n",
      "|    260|[space, ROBOTS AN...|   26|\n",
      "| 135536|[visually appeali...|   19|\n",
      "|   4144|[nocturnal, atmos...|   18|\n",
      "|  72998|[superficial plot...|   18|\n",
      "|   3676|[gruesome, surrea...|   17|\n",
      "|   1921|[surreal, atmosph...|   17|\n",
      "| 122912|[comic book, Visu...|   15|\n",
      "|    541|[future, atmosphe...|   13|\n",
      "|   5673|[pudding, surreal...|   13|\n",
      "|  71899|[friendship, swee...|   13|\n",
      "|   4226|[psychological, m...|   13|\n",
      "|  68954|[dreams, cartoon,...|   13|\n",
      "+-------+--------------------+-----+\n",
      "only showing top 20 rows\n",
      "\n"
     ]
    }
   ],
   "source": [
    "tags_agg = tags.groupBy(\"movieId\").agg(\n",
    "    f.collect_set(\"tag\"),\n",
    "    f.count(\"tag\").alias(\"count\")\n",
    ").sort(f.col(\"count\").desc())\n",
    "\n",
    "tags_agg.show()\n"
   ]
  }
 ],
 "metadata": {
  "kernelspec": {
   "display_name": "Python 3",
   "language": "python",
   "name": "python3"
  },
  "language_info": {
   "codemirror_mode": {
    "name": "ipython",
    "version": 3
   },
   "file_extension": ".py",
   "mimetype": "text/x-python",
   "name": "python",
   "nbconvert_exporter": "python",
   "pygments_lexer": "ipython3",
   "version": "3.7.3"
  }
 },
 "nbformat": 4,
 "nbformat_minor": 2
}

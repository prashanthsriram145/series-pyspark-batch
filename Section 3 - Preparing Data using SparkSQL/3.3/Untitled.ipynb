{
 "cells": [
  {
   "cell_type": "code",
   "execution_count": 4,
   "metadata": {},
   "outputs": [
    {
     "name": "stdout",
     "output_type": "stream",
     "text": [
      "+-------+----------------------------------+-------------------------------------------+\n",
      "|movieId|title                             |genres                                     |\n",
      "+-------+----------------------------------+-------------------------------------------+\n",
      "|1      |Toy Story (1995)                  |Adventure|Animation|Children|Comedy|Fantasy|\n",
      "|2      |Jumanji (1995)                    |Adventure|Children|Fantasy                 |\n",
      "|3      |Grumpier Old Men (1995)           |Comedy|Romance                             |\n",
      "|4      |Waiting to Exhale (1995)          |Comedy|Drama|Romance                       |\n",
      "|5      |Father of the Bride Part II (1995)|Comedy                                     |\n",
      "|6      |Heat (1995)                       |Action|Crime|Thriller                      |\n",
      "|7      |Sabrina (1995)                    |Comedy|Romance                             |\n",
      "|8      |Tom and Huck (1995)               |Adventure|Children                         |\n",
      "|9      |Sudden Death (1995)               |Action                                     |\n",
      "|10     |GoldenEye (1995)                  |Action|Adventure|Thriller                  |\n",
      "+-------+----------------------------------+-------------------------------------------+\n",
      "only showing top 10 rows\n",
      "\n",
      "root\n",
      " |-- movieId: integer (nullable = true)\n",
      " |-- title: string (nullable = true)\n",
      " |-- genres: string (nullable = true)\n",
      "\n"
     ]
    }
   ],
   "source": [
    "from pyspark.sql import SparkSession\n",
    "from pyspark.sql import functions as f\n",
    "\n",
    "spark = SparkSession.builder.appName(\"DataWrangling\").getOrCreate()\n",
    "\n",
    "df = spark.read.csv(\n",
    "path=\"../../../data-sets/ml-latest-small/movies.csv\",\n",
    "header=True,\n",
    "inferSchema=True)\n",
    "\n",
    "df.show(10, truncate=False)\n",
    "df.printSchema()"
   ]
  },
  {
   "cell_type": "code",
   "execution_count": 5,
   "metadata": {},
   "outputs": [
    {
     "name": "stdout",
     "output_type": "stream",
     "text": [
      "+-------+-----------------------------------------------------------+------+\n",
      "|movieId|title                                                      |genres|\n",
      "+-------+-----------------------------------------------------------+------+\n",
      "|9      |Sudden Death (1995)                                        |Action|\n",
      "|71     |Fair Game (1995)                                           |Action|\n",
      "|204    |Under Siege 2: Dark Territory (1995)                       |Action|\n",
      "|251    |Hunted, The (1995)                                         |Action|\n",
      "|667    |Bloodsport 2 (a.k.a. Bloodsport II: The Next Kumite) (1996)|Action|\n",
      "|1170   |Best of the Best 3: No Turning Back (1995)                 |Action|\n",
      "|1497   |Double Team (1997)                                         |Action|\n",
      "|1599   |Steel (1997)                                               |Action|\n",
      "|2196   |Knock Off (1998)                                           |Action|\n",
      "|2534   |Avalanche (1978)                                           |Action|\n",
      "+-------+-----------------------------------------------------------+------+\n",
      "only showing top 10 rows\n",
      "\n"
     ]
    }
   ],
   "source": [
    "df.where(f.col(\"genres\") == \"Action\").show(10, truncate=False)"
   ]
  },
  {
   "cell_type": "code",
   "execution_count": 7,
   "metadata": {},
   "outputs": [
    {
     "name": "stdout",
     "output_type": "stream",
     "text": [
      "+-------+-----------------------+---------+\n",
      "|movieId|title                  |genre    |\n",
      "+-------+-----------------------+---------+\n",
      "|1      |Toy Story (1995)       |Adventure|\n",
      "|1      |Toy Story (1995)       |Animation|\n",
      "|1      |Toy Story (1995)       |Children |\n",
      "|1      |Toy Story (1995)       |Comedy   |\n",
      "|1      |Toy Story (1995)       |Fantasy  |\n",
      "|2      |Jumanji (1995)         |Adventure|\n",
      "|2      |Jumanji (1995)         |Children |\n",
      "|2      |Jumanji (1995)         |Fantasy  |\n",
      "|3      |Grumpier Old Men (1995)|Comedy   |\n",
      "|3      |Grumpier Old Men (1995)|Romance  |\n",
      "+-------+-----------------------+---------+\n",
      "only showing top 10 rows\n",
      "\n"
     ]
    }
   ],
   "source": [
    "df = df.withColumn(\"genre\", f.explode(f.split(\"genres\", \"\\|\"))).select(\"movieId\", \"title\", \"genre\")\n",
    "\n",
    "df.show(10, truncate=False)"
   ]
  },
  {
   "cell_type": "code",
   "execution_count": 11,
   "metadata": {},
   "outputs": [
    {
     "name": "stdout",
     "output_type": "stream",
     "text": [
      "+------------------+\n",
      "|             genre|\n",
      "+------------------+\n",
      "|             Crime|\n",
      "|           Romance|\n",
      "|          Thriller|\n",
      "|         Adventure|\n",
      "|             Drama|\n",
      "|               War|\n",
      "|       Documentary|\n",
      "|           Fantasy|\n",
      "|           Mystery|\n",
      "|           Musical|\n",
      "|         Animation|\n",
      "|         Film-Noir|\n",
      "|(no genres listed)|\n",
      "|              IMAX|\n",
      "|            Horror|\n",
      "|           Western|\n",
      "|            Comedy|\n",
      "|          Children|\n",
      "|            Action|\n",
      "|            Sci-Fi|\n",
      "+------------------+\n",
      "\n",
      "20\n"
     ]
    }
   ],
   "source": [
    "df.select(\"genre\").distinct().show(35)\n",
    "print(df.select(\"genre\").distinct().count())"
   ]
  },
  {
   "cell_type": "code",
   "execution_count": 14,
   "metadata": {},
   "outputs": [
    {
     "name": "stdout",
     "output_type": "stream",
     "text": [
      "+-------+--------------------+------------------+\n",
      "|movieId|               title|             genre|\n",
      "+-------+--------------------+------------------+\n",
      "| 114335|   La cravate (1957)|(no genres listed)|\n",
      "| 122888|      Ben-hur (2016)|(no genres listed)|\n",
      "| 122896|Pirates of the Ca...|(no genres listed)|\n",
      "| 129250|   Superfast! (2015)|(no genres listed)|\n",
      "| 132084| Let It Be Me (1995)|(no genres listed)|\n",
      "| 134861|Trevor Noah: Afri...|(no genres listed)|\n",
      "| 141131|    Guardians (2016)|(no genres listed)|\n",
      "| 141866|   Green Room (2015)|(no genres listed)|\n",
      "| 142456|The Brand New Tes...|(no genres listed)|\n",
      "| 143410|          Hyena Road|(no genres listed)|\n",
      "| 147250|The Adventures of...|(no genres listed)|\n",
      "| 149330|A Cosmic Christma...|(no genres listed)|\n",
      "| 152037|  Grease Live (2016)|(no genres listed)|\n",
      "| 155589|Noin 7 veljestä (...|(no genres listed)|\n",
      "| 156605|            Paterson|(no genres listed)|\n",
      "| 159161|Ali Wong: Baby Co...|(no genres listed)|\n",
      "| 159779|A Midsummer Night...|(no genres listed)|\n",
      "| 161008|The Forbidden Dan...|(no genres listed)|\n",
      "| 165489|Ethel & Ernest (2...|(no genres listed)|\n",
      "| 166024|     Whiplash (2013)|(no genres listed)|\n",
      "+-------+--------------------+------------------+\n",
      "only showing top 20 rows\n",
      "\n",
      "34\n"
     ]
    }
   ],
   "source": [
    "df.where(f.col(\"genre\") == \"(no genres listed)\").show()\n",
    "print(df.where(f.col(\"genre\") == \"(no genres listed)\").count())"
   ]
  }
 ],
 "metadata": {
  "kernelspec": {
   "display_name": "Python 3",
   "language": "python",
   "name": "python3"
  },
  "language_info": {
   "codemirror_mode": {
    "name": "ipython",
    "version": 3
   },
   "file_extension": ".py",
   "mimetype": "text/x-python",
   "name": "python",
   "nbconvert_exporter": "python",
   "pygments_lexer": "ipython3",
   "version": "3.7.3"
  }
 },
 "nbformat": 4,
 "nbformat_minor": 2
}
